{
 "cells": [
  {
   "cell_type": "markdown",
   "metadata": {},
   "source": [
    "# Line geometry in 2-D\n",
    "\n",
    "## Equation forms of a line\n",
    "\n",
    "### Slope-intercept form\n",
    "\n",
    "The line has slope $m$ with $y$-intercept being $b$.\n",
    "\n",
    "$$\n",
    "y = m x + b\n",
    "$$\n",
    "\n",
    "### Point-slope form\n",
    "\n",
    "The line passing through point $(x_0, y_0)$ with slope $m$.\n",
    "\n",
    "$$\n",
    "y - y_0 = m(x - x_0)\n",
    "$$\n",
    "\n",
    "### Intercept form\n",
    "\n",
    "For a straight line that crosses both coordinate axes outside the origin, both intercept values exist and are non-zero. Let $x_0$ be the $x$-axis intercept, and $y_0$ be the $y$-axis intercept, then\n",
    "$$\n",
    "\\frac{x}{x_0} + \\frac{y}{y_0} = 1\n",
    "$$"
   ]
  },
  {
   "cell_type": "markdown",
   "metadata": {},
   "source": [
    "## Orthogonal lines\n",
    "\n",
    "Let $f$ be a line with slope $m$, where $m > 0$. Another line $g$ is said to be orthogonal to $f$ if its slope is $-\\frac{1}{m}$ (thus the negative reciprocal)."
   ]
  },
  {
   "cell_type": "markdown",
   "metadata": {},
   "source": [
    "# Plane: the natural analogue of lines from 2-D to 3-D\n",
    "\n",
    "## Equation forms of a plane\n",
    "\n",
    "For a plane in standard coordinates, the points $(x, y, z)$ on the plane satisfy...\n",
    "\n",
    "### Point-slope form\n",
    "\n",
    "$$\n",
    "a_x (x - x_0) + a_y (y - y_0) + a_z (z - z_0) = 0\n",
    "$$\n",
    "\n",
    "...where $a_x, a_y, a_z$ together encode the slope of the plane.\n",
    "\n",
    "#### Linear equation form\n",
    "\n",
    "If we let $b = - (a_x x_0 + a_y y_0 + a_z z_0)$, then we can rewrite the point-slope form as\n",
    "\n",
    "$$\n",
    "a_x x + a_y y + a_z z = b\n",
    "$$\n",
    "\n",
    "### Intercept form\n",
    "\n",
    "For a plane that crosses all three coordinate axes outside the origin, all three intercept values exist and are non-zero. Let $a$ be the $x$-axis intercept, and $b$ be the $y$-axis intercept, and $c$ be the $z$-axis intercept, then\n",
    "\n",
    "$$\n",
    "\\frac{x}{x_0} + \\frac{y}{y_0} + \\frac{z}{z_0} = 1\n",
    "$$"
   ]
  },
  {
   "cell_type": "markdown",
   "metadata": {},
   "source": [
    "## Parallel planes\n",
    "\n",
    "A plane $f$ that has the same slope as another plane $g$ is said to be the parallel plane of $g$.\n",
    "\n",
    "Let $a_x, a_y, a_z$ be fixed values, and $x_0, y_0, z_0$ be free variables, then the planes can be written in the form\n",
    "\n",
    "$$\n",
    "a_x (x - x_0) + a_y (y - y_0) + a_z (z - z_0) = 0\n",
    "$$\n",
    "\n",
    "are parallel to each other."
   ]
  },
  {
   "cell_type": "markdown",
   "metadata": {},
   "source": [
    "## Parametric representation of lines in 3-D\n",
    "\n",
    "We can represent a line in the 3-D space in the parametric form of variable $r$ as\n",
    "\n",
    "$$\n",
    "x(r) = m_x x + b_x \\\\\n",
    "y(r) = m_y y + b_y \\\\\n",
    "z(r) = m_z z + b_z\n",
    "$$\n",
    "\n",
    "### A line represented by non-linear parametric equations\n",
    "\n",
    "$$\n",
    "\\begin{aligned}\n",
    "\\begin{array}{l}\n",
    "x(r) &= 3 r - 5 \\\\\n",
    "y(r) &= r + 3 \\\\\n",
    "z(r) &= - 4 r + 1\n",
    "\\end{array} \n",
    "&&\\stackrel{s = r + 1}{=}&&\n",
    "\\begin{array}{l}\n",
    "x(s) &= 3 s - 8 \\\\\n",
    "y(s) &= s + 2 \\\\\n",
    "z(s) &= - 4 s + 5\n",
    "\\end{array}\n",
    "&&\\stackrel{t = r^{\\frac{1}{3}}}{=}&&\n",
    "\\begin{array}{l}\n",
    "x(t) &= 3 t^3 - 5 \\\\\n",
    "y(t) &= t^3 + 3 \\\\\n",
    "z(t) &= -4 t^3 + 1\n",
    "\\end{array} \\\\\n",
    "\\end{aligned}\n",
    "$$\n",
    "\n",
    "Each of  these gives a line passing through the point $(-5, 3, 1)$ and with the same slope."
   ]
  },
  {
   "cell_type": "markdown",
   "metadata": {},
   "source": [
    "## Hyperplanes: Generalization of lines and planes\n",
    "\n",
    "In higher dimensional vector spaces, we can generalize the concept of lines and planes as hyperplanes.\n",
    "\n",
    "$R^n$, we can represent a hyperplane as\n",
    "\n",
    "$$\n",
    "a_1 x_1 + ... + a_n x_x = b\n",
    "$$"
   ]
  },
  {
   "cell_type": "markdown",
   "metadata": {},
   "source": [
    "## Bonus: machine learning\n",
    "\n",
    "### Support Vector Machine\n",
    "\n",
    "Let's say we have a high-dimensional space full of data points.\n",
    "\n",
    "A **Support Vector Machine (SVM)** is a hyperplane that optimally separates two types of data points.\n",
    "\n",
    "However in many cases, data are convoluted, \"twisted\", and **non-linear**, thus cannot be well separate by a hyperplane. We often need more advanced methods for classification."
   ]
  },
  {
   "cell_type": "code",
   "execution_count": null,
   "metadata": {},
   "outputs": [],
   "source": []
  }
 ],
 "metadata": {
  "kernelspec": {
   "display_name": "Python 3",
   "language": "python",
   "name": "python3"
  },
  "language_info": {
   "codemirror_mode": {
    "name": "ipython",
    "version": 3
   },
   "file_extension": ".py",
   "mimetype": "text/x-python",
   "name": "python",
   "nbconvert_exporter": "python",
   "pygments_lexer": "ipython3",
   "version": "3.7.0"
  }
 },
 "nbformat": 4,
 "nbformat_minor": 2
}
