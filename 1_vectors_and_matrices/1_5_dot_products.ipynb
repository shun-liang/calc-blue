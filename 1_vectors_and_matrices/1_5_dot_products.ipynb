{
 "cells": [
  {
   "cell_type": "markdown",
   "metadata": {},
   "source": [
    "## Geometry and the dot product\n",
    "\n",
    "### Angle\n",
    "Given two non-zero vectors $\\underline{u}, \\underline{v}$ in $\\mathbb{R}^n$. In the plane they span, the angle between the two vectors are well defined:\n",
    "\n",
    "$$\n",
    "\\underline{u} \\cdot \\underline{v} = \\Vert \\underline{u} \\Vert \\Vert \\underline{v} \\Vert \\cos \\theta\n",
    "$$\n",
    "\n",
    "...where $\\theta$ is the angle between the two vectors in the plane they span.\n",
    "\n",
    "### Orthogonality\n",
    "\n",
    "$$\n",
    "\\underbrace{\\underline{u} \\perp \\underline{v}}_{\\text{orthogonal}} \\Leftrightarrow \\underbrace{\\cos \\theta = 0}_{\\text{definition}} \\Leftrightarrow \\underbrace{\\underline{u} \\cdot \\underline{v} = 0}_{\\text{formula}}\n",
    "$$"
   ]
  },
  {
   "cell_type": "markdown",
   "metadata": {},
   "source": [
    "### Projected length\n",
    "\n",
    "Dot product with a unit vector gives a **projected length**.\n",
    "\n",
    "Let $\\underline{u}$ be a unit vector in $\\mathbb{R}^n$. It has length $1$.\n",
    "\n",
    "Let $\\underline{v}$ be any vector in $\\mathbb{R}^n$. Then we can interpret $\\underline{u} \\cdot \\underline{v}$ as the oriented, projected length of $v$ along the \"$u$-axis\"."
   ]
  },
  {
   "cell_type": "code",
   "execution_count": null,
   "metadata": {},
   "outputs": [],
   "source": []
  }
 ],
 "metadata": {
  "kernelspec": {
   "display_name": "Python 3",
   "language": "python",
   "name": "python3"
  },
  "language_info": {
   "codemirror_mode": {
    "name": "ipython",
    "version": 3
   },
   "file_extension": ".py",
   "mimetype": "text/x-python",
   "name": "python",
   "nbconvert_exporter": "python",
   "pygments_lexer": "ipython3",
   "version": "3.7.0"
  }
 },
 "nbformat": 4,
 "nbformat_minor": 2
}
