{
 "cells": [
  {
   "cell_type": "markdown",
   "metadata": {},
   "source": [
    "## Coordinates\n",
    "\n",
    "The 2-D space is typically coordinatized via $\\mathbb{R}^2 = \\{(x, y)\\}$.\n",
    "\n",
    "The 3-D space is typically coordinatized via $\\mathbb{R}^3 = \\{(x, y, z)\\}$.\n",
    "\n",
    "### Generalization for the $n$-dimensional space\n",
    "\n",
    "The $n$-dimensional space is coordinatized via $\\mathbb{R}^n = \\{(x_1, ..., x_n)\\}$. $x_1, ..., x_n$ are called the coordinates of $\\mathbb{R}^n$.\n",
    "\n",
    "A **point** is an element of $\\mathbb{R}^n$."
   ]
  },
  {
   "cell_type": "markdown",
   "metadata": {},
   "source": [
    "### Higher dimensional spaces occurs naturally\n",
    "\n",
    "#### Example in robot kinematics\n",
    "\n",
    "Consider a robot with simple angular joints. The configuration of those joints are specified by a sequence of joint angles $\\phi_1, ..., \\phi_n$.\n",
    "\n",
    "These angles specify a configuration space for the robot.\n",
    "\n",
    "#### Example of customer profiles\n",
    "\n",
    "Consider we are conducting a survey for an e-commerce website, and each customer is given a question:\n",
    "\n",
    "> How much do you enjoy $x$?\n",
    "\n",
    "Where $x$ can be a item among a list of $n$ different products:\n",
    "\n",
    "$$\n",
    "1: \\text{durian} \\\\\n",
    "2: \\text{espresso} \\\\\n",
    "3: \\text{fortnite} \\\\\n",
    "4: \\text{sushi} \\\\\n",
    "\\vdots \\\\\n",
    "n: \\text{lego}\n",
    "$$\n",
    "\n",
    "Then the data from the survey will help building a preference space. Each customer is coordinatized by their preferences: $p_1, ..., p_n$.\n",
    "\n",
    "This view of customer preferences can help partitioning customers."
   ]
  },
  {
   "cell_type": "markdown",
   "metadata": {},
   "source": [
    "## Distances\n",
    "\n",
    "When the axis \"unit\" are all the same (i.e. the space is a normed vector space), the **distance** between a pair of points in the space is computed by the Pythagorean theorem.\n",
    "\n",
    "Let $P = (P_1, P_2), Q = (Q_1, Q_2)$ be two points in the 2-D space. then the distance between $P$ and $Q$ is defined as\n",
    "\n",
    "$$\n",
    "\\Vert P - Q \\Vert = \\sqrt{(Q_1 - P_1)^2 + (Q_2 - P_2)^2}\n",
    "$$\n",
    "\n",
    "And let $P = (P_1, P_2, P_3), Q = (Q_1, Q_2, Q_3)$ be two points in the 3-D space, then we can generalize from the definition from the 2-D space, by applying the Pythagorean theorem\n",
    "\n",
    "\n",
    "$$\n",
    "\\Vert P - Q \\Vert = \\sqrt{(Q_1 - P_1)^2 + (Q_2 - P_2)^2 + (Q_3 - P_3)^2}\n",
    "$$\n",
    "\n",
    "![](./distance-3d.png)\n",
    "\n",
    "For the $n$-dimensional space, let $P = (P_1, ..., P_n), Q = (Q_1, ..., Q_n)$, then we can generalize the definition from the $n-1$-dimensional space, by applying the Pythagorean theorem\n",
    "\n",
    "$$\n",
    "\\Vert P - Q \\Vert = \\sqrt{(Q_1 - P_1)^2 + ... + (Q_n - P_n)^2} = \\sqrt{\\sum_{i = 1}^n (Q_i - P_i)}\n",
    "$$\n",
    "\n",
    "### Distance between a point and a line in 3-D space\n",
    "\n",
    "Let $f$ be a line in the 3-D space defined parametrically as\n",
    "\n",
    "$$\n",
    "\\begin{array}{l}\n",
    "x(t) &=& m_x x + b_x \\\\\n",
    "y(t) &=& m_y y + b_y \\\\\n",
    "z(t) &=& m_z z + b_z\n",
    "\\end{array}\n",
    "$$\n",
    "\n",
    "Then the distance between the point $P = (x_p, y_p, z_p)$ to line $f$ is\n",
    "\n",
    "$$\n",
    "\\operatorname{D} = \\sqrt{(x(t) - x_p)^2 + (y(t) - y_p)^2 + (z(t) - z_p)^2}\n",
    "$$\n",
    "\n",
    "The minimal distance between a point and a line is the orthogonal distance. We will explore how to compute it later."
   ]
  },
  {
   "cell_type": "code",
   "execution_count": null,
   "metadata": {},
   "outputs": [],
   "source": []
  }
 ],
 "metadata": {
  "kernelspec": {
   "display_name": "Python 3",
   "language": "python",
   "name": "python3"
  },
  "language_info": {
   "codemirror_mode": {
    "name": "ipython",
    "version": 3
   },
   "file_extension": ".py",
   "mimetype": "text/x-python",
   "name": "python",
   "nbconvert_exporter": "python",
   "pygments_lexer": "ipython3",
   "version": "3.7.0"
  }
 },
 "nbformat": 4,
 "nbformat_minor": 2
}
