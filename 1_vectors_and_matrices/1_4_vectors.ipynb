{
 "cells": [
  {
   "cell_type": "markdown",
   "metadata": {},
   "source": [
    "## Notes on notations\n",
    "\n",
    "In this course, a vector is written as $\\underline{v}$."
   ]
  },
  {
   "cell_type": "markdown",
   "metadata": {},
   "source": [
    "## Parametrization of lines and planes using vectors\n",
    "\n",
    "Using vectors can help describing directions of change.\n",
    "\n",
    "### $1$-dimensional line in a high-dimensional space\n",
    "\n",
    "Let $\\underline{v}$ be a vector in the high-dimensional space.\n",
    "\n",
    "A $1$-dimensional line in an $n$-dimensional space can be defined parametrically using vector as\n",
    "\n",
    "$$\n",
    "\\underline{x}(t) = \\underline{x}_0 + t \\underline{v}\n",
    "$$\n",
    "\n",
    "...where $\\underline{v}$ is used to describe the tangent (slope, direction) of the line.\n",
    "\n",
    "![](vector_parametrization_line.png)\n",
    "\n",
    "That's $1$-dimensional line, with $1$ parameter ($t$), with $1$ vector ($\\underline{v}$).\n",
    "\n",
    "### $2$-dimensional plane in a high-dimensional space\n",
    "\n",
    "Let $\\underline{v}, \\underline{u}$ be two linearly independent vectors in the high-dimensional space.\n",
    "\n",
    "$$\n",
    "\\underline{x}(s, t) = \\underline{x}_0 + s \\underline{u} + t \\underline{v}\n",
    "$$\n",
    "\n",
    "![](vector_parametrization_plane.png)"
   ]
  },
  {
   "cell_type": "markdown",
   "metadata": {},
   "source": [
    "### Standard basis vectors\n",
    "\n",
    "In the $n$-dimensional space, we denote the $i$-th standard basis vector as \n",
    "\n",
    "$$\n",
    "\\begin{aligned}\n",
    "\\underline{e}_k = \\begin{pmatrix} 0 \\\\ \\vdots \\\\ 0 \\\\ 1 \\\\ 0 \\\\ \\vdots \\\\ 0 \\end{pmatrix} &&\\text{k-th term}\n",
    "\\end{aligned}\n",
    "$$"
   ]
  },
  {
   "cell_type": "code",
   "execution_count": null,
   "metadata": {},
   "outputs": [],
   "source": []
  }
 ],
 "metadata": {
  "kernelspec": {
   "display_name": "Python 3",
   "language": "python",
   "name": "python3"
  },
  "language_info": {
   "codemirror_mode": {
    "name": "ipython",
    "version": 3
   },
   "file_extension": ".py",
   "mimetype": "text/x-python",
   "name": "python",
   "nbconvert_exporter": "python",
   "pygments_lexer": "ipython3",
   "version": "3.7.0"
  }
 },
 "nbformat": 4,
 "nbformat_minor": 2
}
